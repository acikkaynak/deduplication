{
  "cells": [
    {
      "cell_type": "code",
      "source": [
        "# run these 3 then res runtime\n",
        "\n",
        "!pip3 install --upgrade --force-reinstall protobuf\n",
        "!pip3 install  --upgrade --force-reinstall grpcio-tools\n",
        "!pip install --upgrade --force-reinstall pymilvus\n"
      ],
      "metadata": {
        "id": "izT3MKSoUZQC"
      },
      "id": "izT3MKSoUZQC",
      "execution_count": null,
      "outputs": []
    },
    {
      "cell_type": "code",
      "source": [
        "from google.colab import drive\n",
        "drive.mount('/content/drive')"
      ],
      "metadata": {
        "id": "OahbWNhA6n0r",
        "outputId": "ff0b9fea-c7a5-4e32-e16a-cf054075351b",
        "colab": {
          "base_uri": "https://localhost:8080/"
        }
      },
      "id": "OahbWNhA6n0r",
      "execution_count": null,
      "outputs": [
        {
          "output_type": "stream",
          "name": "stdout",
          "text": [
            "Mounted at /content/drive\n"
          ]
        }
      ]
    },
    {
      "cell_type": "markdown",
      "source": [
        "Load Vectors from a pickle file"
      ],
      "metadata": {
        "id": "e1q5V9DGVqX9"
      },
      "id": "e1q5V9DGVqX9"
    },
    {
      "cell_type": "code",
      "source": [
        "import pickle\n",
        "\n",
        "with open('vectors.pkl', 'rb') as f:\n",
        "  data = pickle.load(f)"
      ],
      "metadata": {
        "id": "cNOcDkr14jt-"
      },
      "id": "cNOcDkr14jt-",
      "execution_count": null,
      "outputs": []
    },
    {
      "cell_type": "code",
      "source": [
        "data_list = []\n",
        "for d in data:\n",
        "    data_list.append(d)"
      ],
      "metadata": {
        "id": "wKZFhdzv8XKS"
      },
      "id": "wKZFhdzv8XKS",
      "execution_count": null,
      "outputs": []
    },
    {
      "cell_type": "code",
      "source": [
        "data_ids = [data_list[i][\"id\"] for i in range(len(data_list))]\n",
        "data_vecs = [data_list[i][\"vector\"] for i in range(len(data_list))]"
      ],
      "metadata": {
        "id": "e36WmMdN9BdV"
      },
      "id": "e36WmMdN9BdV",
      "execution_count": null,
      "outputs": []
    },
    {
      "cell_type": "markdown",
      "source": [
        "Create Connection"
      ],
      "metadata": {
        "id": "a9yqTrZyV4Ew"
      },
      "id": "a9yqTrZyV4Ew"
    },
    {
      "cell_type": "code",
      "execution_count": null,
      "id": "cf95cfef",
      "metadata": {
        "id": "cf95cfef"
      },
      "outputs": [],
      "source": [
        "from pymilvus import connections, Collection, CollectionSchema, FieldSchema, DataType\n",
        "\n",
        "connections.connect(\"default\", uri=\"http://localhost:19530\")\n"
      ]
    },
    {
      "cell_type": "markdown",
      "source": [
        "Create Collection"
      ],
      "metadata": {
        "id": "BTyLF2mQV6hb"
      },
      "id": "BTyLF2mQV6hb"
    },
    {
      "cell_type": "code",
      "execution_count": null,
      "id": "641ee0d6",
      "metadata": {
        "id": "641ee0d6"
      },
      "outputs": [],
      "source": [
        "TABLE_NAME = \"<TABLE_NAME>\"\n",
        "field_name = \"<VECTOR_FIELD_NAME>\"\n",
        "\n",
        "pk = FieldSchema(name=\"id\", dtype=DataType.INT64, is_primary=True, auto_id=False)\n",
        "field = FieldSchema(name=field_name, dtype=DataType.FLOAT_VECTOR, dim=768)\n",
        "schema = CollectionSchema(fields=[pk,field], description=\"vectors collection\")\n",
        "collection = Collection(name=TABLE_NAME, schema=schema)"
      ]
    },
    {
      "cell_type": "markdown",
      "source": [
        "Bulk load part"
      ],
      "metadata": {
        "id": "oGynUeE7mxCW"
      },
      "id": "oGynUeE7mxCW"
    },
    {
      "cell_type": "code",
      "source": [
        "mr_list = []\n",
        "for i in range(0, len(data_list), 10000):\n",
        "  connections.connect(\"default\", uri=\"http://localhost:19530\")\n",
        "  collection = Collection(name=TABLE_NAME)\n",
        "\n",
        "  mr = collection.insert([data_ids[i:i+10000], data_vecs[i:i+10000]], timeout=60)\n",
        "  mr_item = {\"step\":i, \"err_count\": mr.err_count, \"succ_count\": mr.succ_count}\n",
        "  mr_list.append(mr_item)\n",
        "  connections.remove_connection(\"default\")"
      ],
      "metadata": {
        "id": "uU8Pe8Vz_s7s",
        "outputId": "0a6644b0-db6b-4120-b78e-0b0eb3cccb68",
        "colab": {
          "base_uri": "https://localhost:8080/"
        }
      },
      "id": "uU8Pe8Vz_s7s",
      "execution_count": null,
      "outputs": [
        {
          "output_type": "stream",
          "name": "stdout",
          "text": [
            "0\n",
            "10000\n",
            "20000\n",
            "30000\n",
            "40000\n",
            "50000\n",
            "60000\n",
            "70000\n",
            "80000\n",
            "90000\n"
          ]
        }
      ]
    },
    {
      "cell_type": "code",
      "source": [
        "mr_list # get data from mr object."
      ],
      "metadata": {
        "id": "37ipIgFabWGS",
        "outputId": "e7d5a1f6-4400-49f6-a2a6-5cbac63d98d2",
        "colab": {
          "base_uri": "https://localhost:8080/"
        }
      },
      "id": "37ipIgFabWGS",
      "execution_count": null,
      "outputs": [
        {
          "output_type": "execute_result",
          "data": {
            "text/plain": [
              "[{'step': 0, 'err_count': 0, 'succ_count': 10000},\n",
              " {'step': 10000, 'err_count': 0, 'succ_count': 10000},\n",
              " {'step': 20000, 'err_count': 0, 'succ_count': 10000},\n",
              " {'step': 30000, 'err_count': 0, 'succ_count': 10000},\n",
              " {'step': 40000, 'err_count': 0, 'succ_count': 10000},\n",
              " {'step': 50000, 'err_count': 0, 'succ_count': 10000},\n",
              " {'step': 60000, 'err_count': 0, 'succ_count': 10000},\n",
              " {'step': 70000, 'err_count': 0, 'succ_count': 10000},\n",
              " {'step': 80000, 'err_count': 0, 'succ_count': 10000},\n",
              " {'step': 90000, 'err_count': 0, 'succ_count': 5003}]"
            ]
          },
          "metadata": {},
          "execution_count": 188
        }
      ]
    },
    {
      "cell_type": "markdown",
      "source": [
        "Build an Index on Vectors\n",
        "\n",
        "\n",
        "---\n",
        "\n",
        "\n",
        "\n",
        "---\n",
        "\n",
        "\n",
        "Vector indexes are an organizational unit of metadata used to accelerate vector similarity search. Without the index built on vectors, Milvus will perform a brute-force search by default.\n"
      ],
      "metadata": {
        "id": "bGV2fIzwUsF2"
      },
      "id": "bGV2fIzwUsF2"
    },
    {
      "cell_type": "code",
      "execution_count": null,
      "id": "bb307bc6",
      "metadata": {
        "id": "bb307bc6"
      },
      "outputs": [],
      "source": [
        "connections.connect(\"default\", uri=\"http://localhost:19530\")\n",
        "collection = Collection(name=\"address\")\n",
        "\n",
        "index_param = {\n",
        "        \"metric_type\":\"IP\",\n",
        "         \"index_type\":\"IVF_SQ8\",\n",
        "        # \"index_type\": \"AUTOINDEX\",\n",
        "        \"params\":{\"nlist\":1024}\n",
        "    }\n",
        "collection.release(timeout=60)\n",
        "collection.create_index(field_name=field_name, index_params=index_param)\n",
        "collection.load()\n"
      ]
    },
    {
      "cell_type": "code",
      "source": [
        "collection.num_entities # entity count in the collection"
      ],
      "metadata": {
        "id": "Vm-exv93YKKI"
      },
      "id": "Vm-exv93YKKI",
      "execution_count": null,
      "outputs": []
    },
    {
      "cell_type": "code",
      "source": [
        "connections.remove_connection(\"default\")"
      ],
      "metadata": {
        "id": "CJjMoNe5j2EM"
      },
      "id": "CJjMoNe5j2EM",
      "execution_count": null,
      "outputs": []
    },
    {
      "cell_type": "code",
      "source": [
        "# DROPS COLLECTION\n",
        "\n",
        "#from pymilvus import utility\n",
        "#utility.drop_collection(\"address\")"
      ],
      "metadata": {
        "id": "7E6Bw4d8heVL"
      },
      "id": "7E6Bw4d8heVL",
      "execution_count": null,
      "outputs": []
    }
  ],
  "metadata": {
    "kernelspec": {
      "display_name": "Python 3 (ipykernel)",
      "language": "python",
      "name": "python3"
    },
    "language_info": {
      "codemirror_mode": {
        "name": "ipython",
        "version": 3
      },
      "file_extension": ".py",
      "mimetype": "text/x-python",
      "name": "python",
      "nbconvert_exporter": "python",
      "pygments_lexer": "ipython3",
      "version": "3.8.9"
    },
    "colab": {
      "provenance": []
    }
  },
  "nbformat": 4,
  "nbformat_minor": 5
}